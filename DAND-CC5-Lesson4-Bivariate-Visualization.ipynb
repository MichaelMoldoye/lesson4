{
 "cells": [
  {
   "cell_type": "code",
   "execution_count": null,
   "metadata": {},
   "outputs": [],
   "source": [
    "import numpy as np\n",
    "import pandas as pd\n",
    "import matplotlib.pyplot as plt\n",
    "import seaborn as sns\n",
    "%matplotlib inline"
   ]
  },
  {
   "cell_type": "code",
   "execution_count": null,
   "metadata": {},
   "outputs": [],
   "source": [
    "fuel_econ = pd.read_csv('fuel-econ.csv')"
   ]
  },
  {
   "cell_type": "code",
   "execution_count": null,
   "metadata": {},
   "outputs": [],
   "source": [
    "print(fuel_econ.shape)\n",
    "fuel_econ.head()"
   ]
  },
  {
   "cell_type": "markdown",
   "metadata": {},
   "source": [
    "### Scatterplots: Displacement vs Combined MPG"
   ]
  },
  {
   "cell_type": "code",
   "execution_count": null,
   "metadata": {},
   "outputs": [],
   "source": [
    "plt.scatter(data = fuel_econ, x = 'displ', y = 'comb');\n",
    "plt.xlabel('Displacement')\n",
    "plt.ylabel('Combined Fuel Efficiency (mgp)');"
   ]
  },
  {
   "cell_type": "code",
   "execution_count": null,
   "metadata": {},
   "outputs": [],
   "source": [
    "sns.regplot(data = fuel_econ, x = 'displ', y = 'comb');\n",
    "plt.xlabel('Displacement')\n",
    "plt.ylabel('Combined Fuel Efficiency (mgp)');"
   ]
  },
  {
   "cell_type": "code",
   "execution_count": null,
   "metadata": {},
   "outputs": [],
   "source": [
    "sns.regplot(data = fuel_econ, x = 'displ', y = 'comb', fit_reg = False);\n",
    "plt.xlabel('Displacement')\n",
    "plt.ylabel('Combined Fuel Efficiency (mgp)');"
   ]
  },
  {
   "cell_type": "markdown",
   "metadata": {},
   "source": [
    "#### Example of unecessary log transform."
   ]
  },
  {
   "cell_type": "code",
   "execution_count": null,
   "metadata": {},
   "outputs": [],
   "source": [
    "def log_trans(x, inverse = False):\n",
    "    if not inverse:\n",
    "        return np.log10(x)\n",
    "    else:\n",
    "        return np.power(10, x)\n",
    "\n",
    "sns.regplot(fuel_econ['displ'], fuel_econ['comb'].apply(log_trans));\n",
    "tick_locs = [10, 15, 25, 40, 60]\n",
    "plt.yticks(log_trans(tick_locs), tick_locs);"
   ]
  },
  {
   "cell_type": "markdown",
   "metadata": {},
   "source": [
    "### Examples of Overplotting, Transparency, and Jitter"
   ]
  },
  {
   "cell_type": "code",
   "execution_count": null,
   "metadata": {},
   "outputs": [],
   "source": [
    "sns.regplot(data = fuel_econ, x = 'year', y = 'comb');\n",
    "plt.xlabel('Year')\n",
    "plt.ylabel('Combined Fuel Efficiency (mgp)');"
   ]
  },
  {
   "cell_type": "code",
   "execution_count": null,
   "metadata": {},
   "outputs": [],
   "source": [
    "sns.regplot(data = fuel_econ, x = 'year', y = 'comb', x_jitter = 0.3);\n",
    "plt.xlabel('Year')\n",
    "plt.ylabel('Combined Fuel Efficiency (mgp)');"
   ]
  },
  {
   "cell_type": "code",
   "execution_count": null,
   "metadata": {},
   "outputs": [],
   "source": [
    "sns.regplot(data = fuel_econ, x = 'year', y = 'comb', x_jitter = 0.3,\n",
    "           scatter_kws = {'alpha' : 1/20});\n",
    "plt.xlabel('Year')\n",
    "plt.ylabel('Combined Fuel Efficiency (mgp)');"
   ]
  },
  {
   "cell_type": "code",
   "execution_count": null,
   "metadata": {},
   "outputs": [],
   "source": [
    "plt.scatter(data = fuel_econ, x = 'year', y = 'comb', alpha = 1/20);\n",
    "plt.xlabel('Year')\n",
    "plt.ylabel('Combined Fuel Efficiency (mgp)');"
   ]
  },
  {
   "cell_type": "markdown",
   "metadata": {},
   "source": [
    "### Eamples of Heatmaps"
   ]
  },
  {
   "cell_type": "code",
   "execution_count": null,
   "metadata": {},
   "outputs": [],
   "source": [
    "sns.regplot(data = fuel_econ, x = 'displ', y = 'comb', fit_reg = False, scatter_kws= {'alpha' : 1/5});\n",
    "plt.xlabel('Displacement')\n",
    "plt.ylabel('Combined Fuel Efficiency (mgp)');"
   ]
  },
  {
   "cell_type": "code",
   "execution_count": null,
   "metadata": {},
   "outputs": [],
   "source": [
    "plt.hist2d(data = fuel_econ, x = 'displ', y = 'comb');\n",
    "plt.colorbar()\n",
    "plt.xlabel('Displacement')\n",
    "plt.ylabel('Combined Fuel Efficiency (mgp)');"
   ]
  },
  {
   "cell_type": "code",
   "execution_count": null,
   "metadata": {},
   "outputs": [],
   "source": [
    "plt.hist2d(data = fuel_econ, x = 'displ', y = 'comb', cmin = 0.5);\n",
    "plt.colorbar()\n",
    "plt.xlabel('Displacement')\n",
    "plt.ylabel('Combined Fuel Efficiency (mgp)');"
   ]
  },
  {
   "cell_type": "code",
   "execution_count": null,
   "metadata": {},
   "outputs": [],
   "source": [
    "plt.hist2d(data = fuel_econ, x = 'displ', y = 'comb', cmin = 0.5, cmap = 'viridis_r');\n",
    "plt.colorbar()\n",
    "plt.xlabel('Displacement')\n",
    "plt.ylabel('Combined Fuel Efficiency (mgp)');"
   ]
  },
  {
   "cell_type": "code",
   "execution_count": null,
   "metadata": {},
   "outputs": [],
   "source": [
    "fuel_econ[['displ','comb']].describe()"
   ]
  },
  {
   "cell_type": "code",
   "execution_count": null,
   "metadata": {},
   "outputs": [],
   "source": [
    "bins_x = np.arange(0.6, 7+0.4, 0.4)\n",
    "bins_y = np.arange(12, 58+3, 3)\n",
    "plt.hist2d(data = fuel_econ, x = 'displ', y = 'comb', cmin = 0.5, \n",
    "           cmap = 'viridis_r', bins = [bins_x, bins_y]);\n",
    "plt.colorbar()\n",
    "plt.xlabel('Displacement')\n",
    "plt.ylabel('Combined Fuel Efficiency (mgp)');"
   ]
  },
  {
   "cell_type": "code",
   "execution_count": null,
   "metadata": {},
   "outputs": [],
   "source": [
    "bins_x = np.arange(0.6, 7+0.4, 0.4)\n",
    "bins_y = np.arange(12, 58+3, 3)\n",
    "plt.figure(figsize=(8,8 ));\n",
    "h2d = plt.hist2d(data = fuel_econ, x = 'displ', y = 'comb', cmin = 0.5, \n",
    "           cmap = 'viridis_r', bins = [bins_x, bins_y]);\n",
    "plt.colorbar();\n",
    "plt.xlabel('Displacement')\n",
    "plt.ylabel('Combined Fuel Efficiency (mgp)');\n",
    "\n",
    "\n",
    "counts = h2d[0]\n",
    "\n",
    "# loop through the cell counts and add text annotations for each\n",
    "for i in range(counts.shape[0]):\n",
    "    for j in range(counts.shape[1]):\n",
    "        c = counts[i,j]\n",
    "        if c >= 200: # increase visibility on darkest cells\n",
    "            plt.text(bins_x[i]+0.2, bins_y[j]+1.5, int(c),\n",
    "                     ha = 'center', va = 'center', color = 'white')\n",
    "        elif c > 0:\n",
    "            plt.text(bins_x[i]+0.2, bins_y[j]+1.5, int(c),\n",
    "                     ha = 'center', va = 'center', color = 'black')"
   ]
  },
  {
   "cell_type": "markdown",
   "metadata": {},
   "source": [
    "### Examples of Violin Plots"
   ]
  },
  {
   "cell_type": "code",
   "execution_count": null,
   "metadata": {},
   "outputs": [],
   "source": [
    "sedan_classes = ['Minicompact Cars', 'Subcompact Cars', 'Compact Cars', 'Midsize Cars', 'Large Cars']\n",
    "vclasses = pd.api.types.CategoricalDtype(ordered = True, categories = sedan_classes)\n",
    "fuel_econ['VClass'] = fuel_econ['VClass'].astype(vclasses);"
   ]
  },
  {
   "cell_type": "code",
   "execution_count": null,
   "metadata": {},
   "outputs": [],
   "source": [
    "sns.violinplot(data = fuel_econ, x = 'VClass', y ='comb');"
   ]
  },
  {
   "cell_type": "code",
   "execution_count": null,
   "metadata": {},
   "outputs": [],
   "source": [
    "base_color = sns.color_palette()[0]\n",
    "sns.violinplot(data = fuel_econ, x = 'VClass', y ='comb', color = base_color);\n",
    "plt.xticks(rotation='vertical');"
   ]
  },
  {
   "cell_type": "code",
   "execution_count": null,
   "metadata": {},
   "outputs": [],
   "source": [
    "base_color = sns.color_palette()[0]\n",
    "sns.violinplot(data = fuel_econ, x = 'VClass', y ='comb', color = base_color, inner = None);\n",
    "plt.xticks(rotation= 15);"
   ]
  }
 ],
 "metadata": {
  "kernelspec": {
   "display_name": "Python [conda env:root] *",
   "language": "python",
   "name": "conda-root-py"
  },
  "language_info": {
   "codemirror_mode": {
    "name": "ipython",
    "version": 3
   },
   "file_extension": ".py",
   "mimetype": "text/x-python",
   "name": "python",
   "nbconvert_exporter": "python",
   "pygments_lexer": "ipython3",
   "version": "3.7.3"
  }
 },
 "nbformat": 4,
 "nbformat_minor": 2
}
